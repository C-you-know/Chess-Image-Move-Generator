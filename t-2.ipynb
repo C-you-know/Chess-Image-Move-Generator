{
 "cells": [
  {
   "cell_type": "code",
   "execution_count": 1,
   "metadata": {},
   "outputs": [],
   "source": [
    "# !pip install chess cairosvg diffusers transformers accelerate"
   ]
  },
  {
   "cell_type": "markdown",
   "metadata": {},
   "source": [
    "# Libraries Used"
   ]
  },
  {
   "cell_type": "code",
   "execution_count": 2,
   "metadata": {},
   "outputs": [],
   "source": [
    "import chess\n",
    "import random\n",
    "import chess.svg\n",
    "import numpy as np\n",
    "import torch\n",
    "import torch.nn as nn\n",
    "import torch.optim as optim\n",
    "from torch.utils.data import Dataset, DataLoader\n",
    "from PIL import Image\n",
    "from io import BytesIO\n",
    "from tqdm.auto import tqdm \n",
    "import matplotlib.pyplot as plt\n",
    "from diffusers import (\n",
    "    StableDiffusionPipeline,\n",
    "    StableDiffusionImg2ImgPipeline,\n",
    "    DDPMScheduler,\n",
    "    AutoencoderKL,\n",
    "    UNet2DConditionModel,\n",
    ")\n",
    "from diffusers.optimization import get_scheduler\n",
    "from transformers import CLIPTextModel, CLIPTokenizer\n",
    "import os\n",
    "import gc\n",
    "import cairosvg "
   ]
  },
  {
   "cell_type": "markdown",
   "metadata": {},
   "source": [
    "# Dataset Creation"
   ]
  },
  {
   "cell_type": "markdown",
   "metadata": {},
   "source": [
    "### Some Handy Data Parameters"
   ]
  },
  {
   "cell_type": "code",
   "execution_count": 3,
   "metadata": {},
   "outputs": [],
   "source": [
    "MODEL_ID = \"runwayml/stable-diffusion-v1-5\" \n",
    "OUTPUT_DIR = \"chess_diffusion_output\"\n",
    "IMAGE_SIZE = 512\n",
    "BATCH_SIZE = 5 \n",
    "NUM_EPOCHS = 15 \n",
    "LEARNING_RATE = 1e-5\n",
    "NUM_GAMES_DATASET = 30 \n",
    "VALIDATION_SAMPLES = 5 \n",
    "SAVE_EPOCH_INTERVAL = 5 \n",
    "MAX_SEQ_FRAMES_CONTEXT = 5 \n",
    "N_GAMES_TO_LOAD = 3  "
   ]
  },
  {
   "cell_type": "markdown",
   "metadata": {},
   "source": [
    "### Hardware Device Selection"
   ]
  },
  {
   "cell_type": "code",
   "execution_count": 4,
   "metadata": {},
   "outputs": [
    {
     "name": "stdout",
     "output_type": "stream",
     "text": [
      "Using device: cpu\n",
      "Using dtype: torch.float32\n"
     ]
    }
   ],
   "source": [
    "if torch.cuda.is_available():\n",
    "    device = \"cuda\"\n",
    "    torch_dtype = torch.float16 \n",
    "else:\n",
    "    device = \"cpu\"\n",
    "    torch_dtype = torch.float32\n",
    "\n",
    "print(f\"Using device: {device}\")\n",
    "print(f\"Using dtype: {torch_dtype}\")"
   ]
  },
  {
   "cell_type": "code",
   "execution_count": 5,
   "metadata": {},
   "outputs": [],
   "source": [
    "os.makedirs(OUTPUT_DIR, exist_ok=True)\n",
    "os.makedirs(os.path.join(OUTPUT_DIR, \"models\"), exist_ok=True)\n",
    "os.makedirs(os.path.join(OUTPUT_DIR, \"images\"), exist_ok=True)"
   ]
  },
  {
   "cell_type": "code",
   "execution_count": 6,
   "metadata": {},
   "outputs": [],
   "source": [
    "def generate_random_chess_game():\n",
    "    \"\"\"Generate a sequence of legal moves for a random chess game.\"\"\"\n",
    "    board = chess.Board()\n",
    "    game_moves = []\n",
    "    while not board.is_game_over(claim_draw=True):\n",
    "        legal_moves = list(board.legal_moves)\n",
    "        if not legal_moves:\n",
    "            break\n",
    "        move = random.choice(legal_moves)\n",
    "        game_moves.append(move.uci())\n",
    "        board.push(move)\n",
    "    return game_moves\n",
    "\n",
    "def svg_to_pil(svg_code, output_size=(IMAGE_SIZE, IMAGE_SIZE)):\n",
    "    \"\"\"Converts SVG string to a PIL Image.\"\"\"\n",
    "    try:\n",
    "        png_data = cairosvg.svg2png(bytestring=svg_code.encode('utf-8'))\n",
    "        image = Image.open(BytesIO(png_data)).convert(\"RGB\")\n",
    "        image = image.resize(output_size, Image.Resampling.LANCZOS)\n",
    "        return image\n",
    "    except Exception as e:\n",
    "        print(f\"Error converting SVG to PIL: {e}\")\n",
    "        return Image.new(\"RGB\", output_size, (128, 128, 128)) \n",
    "\n",
    "def generate_chess_dataset(num_games=NUM_GAMES_DATASET, max_seq_frames=MAX_SEQ_FRAMES_CONTEXT, save_dir=\"chess_diffusion_output/games\"):\n",
    "    \"\"\"Generates chess dataset and saves each game's data individually to avoid memory issues.\"\"\"\n",
    "    os.makedirs(save_dir, exist_ok=True)\n",
    "    print(f\"Generating {num_games} chess games for dataset...\")\n",
    "\n",
    "    total_samples = 0\n",
    "\n",
    "    for game_idx in tqdm(range(num_games), desc=\"Generating Games\"):\n",
    "        print(f\"\\nGenerating game {game_idx + 1}/{num_games}...\")\n",
    "        moves = generate_random_chess_game()\n",
    "        print(f\"Game {game_idx + 1} has {len(moves)} moves.\")\n",
    "        \n",
    "        board = chess.Board()\n",
    "        game_data = []\n",
    "\n",
    "        initial_svg = chess.svg.board(board=board)\n",
    "        initial_frame_pil = svg_to_pil(initial_svg)\n",
    "\n",
    "        gray_image = Image.new(\"RGB\", initial_frame_pil.size, (128, 128, 128))\n",
    "        context = [gray_image.copy() for _ in range(max_seq_frames)]\n",
    "\n",
    "        game_data.append({\n",
    "            \"previous_frames_pil\": context.copy(),\n",
    "            \"action\": \"chess\",\n",
    "            \"target_frame_pil\": initial_frame_pil,\n",
    "            \"move_number\": 0,\n",
    "        })\n",
    "\n",
    "        context.pop(0)\n",
    "        context.append(initial_frame_pil)\n",
    "\n",
    "        for move_num, move in enumerate(moves):\n",
    "            try:\n",
    "                board.push_uci(move)\n",
    "            except ValueError:\n",
    "                print(f\"Skipping invalid move {move} in game {game_idx + 1}\")\n",
    "                continue\n",
    "\n",
    "            new_svg = chess.svg.board(board=board)\n",
    "            new_frame_pil = svg_to_pil(new_svg)\n",
    "\n",
    "            game_data.append({\n",
    "                \"previous_frames_pil\": context.copy(),\n",
    "                \"action\": move,\n",
    "                \"target_frame_pil\": new_frame_pil,\n",
    "                \"move_number\": move_num + 1,\n",
    "            })\n",
    "\n",
    "            context.pop(0)\n",
    "            context.append(new_frame_pil)\n",
    "\n",
    "        save_path = os.path.join(save_dir, f\"game_{game_idx + 1}.pth\")\n",
    "        torch.save(game_data, save_path)\n",
    "        print(f\"Saved game {game_idx + 1} with {len(game_data)} samples to {save_path}\")\n",
    "\n",
    "        total_samples += len(game_data)\n",
    "\n",
    "        del game_data\n",
    "        torch.cuda.empty_cache()\n",
    "\n",
    "    print(f\"\\n✅ Generated total {total_samples} samples across {num_games} games.\")\n"
   ]
  },
  {
   "cell_type": "code",
   "execution_count": 14,
   "metadata": {},
   "outputs": [
    {
     "name": "stdout",
     "output_type": "stream",
     "text": [
      "Loading up to 3 game files from chess_diffusion_output/games...\n"
     ]
    },
    {
     "data": {
      "application/vnd.jupyter.widget-view+json": {
       "model_id": "f36f10629c864b12a843b2873ed52a53",
       "version_major": 2,
       "version_minor": 0
      },
      "text/plain": [
       "Loading Selected Games:   0%|          | 0/3 [00:00<?, ?it/s]"
      ]
     },
     "metadata": {},
     "output_type": "display_data"
    },
    {
     "name": "stdout",
     "output_type": "stream",
     "text": [
      "Loaded 3 games with 825 total samples.\n"
     ]
    }
   ],
   "source": [
    "if __name__ == \"__main__\":\n",
    "    OUTPUT_DIR = \"chess_diffusion_output\"\n",
    "    game_dir = os.path.join(OUTPUT_DIR, \"games\")\n",
    "\n",
    "    chess_data = []  \n",
    "\n",
    "    if os.path.exists(game_dir) and os.listdir(game_dir):\n",
    "        print(f\"Loading up to {N_GAMES_TO_LOAD} game files from {game_dir}...\")\n",
    "        game_files = sorted([f for f in os.listdir(game_dir) if f.endswith(\".pth\")])\n",
    "\n",
    "        for gf in tqdm(game_files[:N_GAMES_TO_LOAD], desc=\"Loading Selected Games\"):\n",
    "            game_path = os.path.join(game_dir, gf)\n",
    "            game_data = torch.load(game_path)\n",
    "            chess_data.append(game_data) \n",
    "\n",
    "        total_samples = sum(len(game) for game in chess_data)\n",
    "        print(f\"Loaded {len(chess_data)} games with {total_samples} total samples.\")\n",
    "\n",
    "    else:\n",
    "        print(\"No game data found. Generating dataset...\")\n",
    "        generate_chess_dataset(save_dir=game_dir)\n",
    "        print(\"Dataset generation complete. Please rerun the script to load the data.\")\n"
   ]
  },
  {
   "cell_type": "code",
   "execution_count": 15,
   "metadata": {},
   "outputs": [],
   "source": [
    "import matplotlib.pyplot as plt\n",
    "\n",
    "def show_image(img, title=\"\"):\n",
    "    \"\"\"Display a single image with a title.\"\"\"\n",
    "    plt.imshow(img)\n",
    "    plt.axis(\"off\")\n",
    "    plt.title(title)\n",
    "    plt.show()\n",
    "\n",
    "def display_game_data(chess_data, game_index=1, num_samples=6):\n",
    "    \"\"\"\n",
    "    Display data for a specific game.\n",
    "\n",
    "    Parameters:\n",
    "    - chess_data: List containing game datasets.\n",
    "    - game_index: Index of the game to display.\n",
    "    - num_samples: Number of samples to display from the selected game.\n",
    "    \"\"\"\n",
    "    if game_index >= len(chess_data):\n",
    "        print(f\"Invalid game index. Please select a value between 0 and {len(chess_data) - 1}.\")\n",
    "        return\n",
    "\n",
    "    game_data = chess_data[game_index]\n",
    "    total_samples = len(game_data)\n",
    "    print(f\"\\nTotal samples in selected game: {total_samples}\\n\")\n",
    "\n",
    "    num_samples = min(num_samples, total_samples)\n",
    "\n",
    "    for i in range(num_samples):\n",
    "        sample = game_data[i]\n",
    "        print(f\"\\n--- Sample {i + 1} ---\")\n",
    "        print(f\"Move Number: {sample['move_number']}\")\n",
    "        print(f\"Action (Move Token): {sample['action']}\")\n",
    "        print(f\"Number of Previous Frames: {len(sample['previous_frames_pil'])}\")\n",
    "\n",
    "        for j, frame in enumerate(sample['previous_frames_pil']):\n",
    "            show_image(frame, title=f\"Previous Frame {j + 1}\")\n",
    "\n",
    "        show_image(sample['target_frame_pil'], title=\"Target Frame\")\n"
   ]
  },
  {
   "cell_type": "code",
   "execution_count": 16,
   "metadata": {},
   "outputs": [
    {
     "name": "stdout",
     "output_type": "stream",
     "text": [
      "\n",
      "Total samples in selected game: 110\n",
      "\n",
      "\n",
      "--- Sample 1 ---\n",
      "Move Number: 0\n",
      "Action (Move Token): chess\n",
      "Number of Previous Frames: 5\n"
     ]
    },
    {
     "data": {
      "image/png": "[encoded data removed]",
      "text/plain": [
       "<Figure size 640x480 with 1 Axes>"
      ]
     },
     "metadata": {},
     "output_type": "display_data"
    }
   ],
   "source": [
    "display_game_data(chess_data, game_index=0, num_samples=6)\n"
   ]
  },
  {
   "cell_type": "code",
   "execution_count": null,
   "metadata": {},
   "outputs": [],
   "source": []
  }
 ],
 "metadata": {
  "language_info": {
   "name": "python"
  }
 },
 "nbformat": 4,
 "nbformat_minor": 2
}
