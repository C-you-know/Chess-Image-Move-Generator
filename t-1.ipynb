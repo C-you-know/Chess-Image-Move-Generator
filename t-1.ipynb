{
 "cells": [
  {
   "cell_type": "code",
   "execution_count": null,
   "metadata": {},
   "outputs": [],
   "source": [
    "import chess\n",
    "import random\n",
    "import chess.svg\n",
    "import cairosvg\n",
    "import numpy as np\n",
    "from io import BytesIO\n",
    "from PIL import Image\n",
    "\n",
    "def generate_random_chess_game():\n",
    "    \"\"\"Generate a sequence of legal moves for a random chess game.\"\"\"\n",
    "    board = chess.Board()\n",
    "    game_moves = []\n",
    "    \n",
    "    while not board.is_game_over():\n",
    "        legal_moves = list(board.legal_moves)\n",
    "        move = random.choice(legal_moves)  \n",
    "        game_moves.append(board.uci(move))  \n",
    "        board.push(move) \n",
    "    \n",
    "    return game_moves\n",
    "\n",
    "def svg_to_numpy(svg_code):\n",
    "    \"\"\"Converts SVG to a NumPy array.\"\"\"\n",
    "    png_data = BytesIO()\n",
    "    cairosvg.svg2png(bytestring=svg_code.encode('utf-8'), write_to=png_data)\n",
    "    image = Image.open(png_data).convert(\"RGB\")\n",
    "    return np.array(image)\n",
    "\n",
    "def generate_chess_dataset(moves):\n",
    "    \"\"\"Generates dataset with board images and their corresponding next moves.\"\"\"\n",
    "    board = chess.Board()\n",
    "    dataset = []\n",
    "\n",
    "    for move in moves:\n",
    "        frame = svg_to_numpy(chess.svg.board(board=board))\n",
    "        board.push_uci(move)  \n",
    "        dataset.append({\"frame\": frame, \"action\": move})\n",
    "\n",
    "    return dataset\n",
    "\n"
   ]
  },
  {
   "cell_type": "code",
   "execution_count": 13,
   "metadata": {},
   "outputs": [
    {
     "name": "stdout",
     "output_type": "stream",
     "text": [
      "<class 'numpy.ndarray'> b1a3\n"
     ]
    }
   ],
   "source": [
    "game_moves = generate_random_chess_game()\n",
    "dataset = generate_chess_dataset(game_moves)\n",
    "\n",
    "first_sample = dataset[0]\n",
    "print(type(first_sample[\"frame\"]), first_sample[\"action\"])  # Should print: <class 'numpy.ndarray'> 'e2e4'\n"
   ]
  },
  {
   "cell_type": "code",
   "execution_count": null,
   "metadata": {},
   "outputs": [],
   "source": []
  }
 ],
 "metadata": {
  "kernelspec": {
   "display_name": "Python 3",
   "language": "python",
   "name": "python3"
  },
  "language_info": {
   "codemirror_mode": {
    "name": "ipython",
    "version": 3
   },
   "file_extension": ".py",
   "mimetype": "text/x-python",
   "name": "python",
   "nbconvert_exporter": "python",
   "pygments_lexer": "ipython3",
   "version": "3.11.9"
  }
 },
 "nbformat": 4,
 "nbformat_minor": 2
}
