{
 "cells": [
  {
   "cell_type": "code",
   "execution_count": null,
   "metadata": {},
   "outputs": [],
   "source": [
    "import chess\n",
    "import random\n",
    "import chess.svg\n",
    "import cairosvg\n",
    "import numpy as np\n",
    "from io import BytesIO\n",
    "from PIL import Image\n",
    "\n",
    "def generate_random_chess_game():\n",
    "    board = chess.Board()\n",
    "    game_moves = []\n",
    "    \n",
    "    while not board.is_game_over():\n",
    "        legal_moves = list(board.legal_moves)\n",
    "        move = random.choice(legal_moves)  \n",
    "        game_moves.append(board.san(move)) \n",
    "        board.push(move) \n",
    "    return game_moves, board.result()  \n",
    "\n",
    "def svg_to_numpy(svg_code):\n",
    "    \"\"\"Converts SVG to a NumPy array.\"\"\"\n",
    "    png_data = BytesIO()\n",
    "    cairosvg.svg2png(bytestring=svg_code.encode('utf-8'), write_to=png_data)\n",
    "    image = Image.open(png_data).convert(\"RGB\")\n",
    "    return np.array(image)\n",
    "\n",
    "def generate_chess_numpy(moves):\n",
    "    board = chess.Board()\n",
    "    data = []\n",
    "    \n",
    "    for move in moves:\n",
    "        frame = svg_to_numpy(chess.svg.board(board=board))\n",
    "        board.push_san(move)\n",
    "        action = svg_to_numpy(chess.svg.board(board=board))\n",
    "        data.append((frame, move))\n",
    "        data.append((action, move))\n",
    "    \n",
    "    return np.array(data, dtype=object)\n",
    "\n",
    "\n"
   ]
  },
  {
   "cell_type": "code",
   "execution_count": null,
   "metadata": {},
   "outputs": [],
   "source": [
    "game_moves = generate_random_chess_game()\n",
    "\n",
    "data = generate_chess_numpy(game_moves)\n"
   ]
  },
  {
   "cell_type": "code",
   "execution_count": null,
   "metadata": {},
   "outputs": [],
   "source": []
  }
 ],
 "metadata": {
  "kernelspec": {
   "display_name": "Python 3",
   "language": "python",
   "name": "python3"
  },
  "language_info": {
   "codemirror_mode": {
    "name": "ipython",
    "version": 3
   },
   "file_extension": ".py",
   "mimetype": "text/x-python",
   "name": "python",
   "nbconvert_exporter": "python",
   "pygments_lexer": "ipython3",
   "version": "3.9.6"
  }
 },
 "nbformat": 4,
 "nbformat_minor": 2
}
